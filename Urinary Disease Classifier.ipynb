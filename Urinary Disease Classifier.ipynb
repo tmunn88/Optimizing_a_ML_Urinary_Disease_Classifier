{
 "cells": [
  {
   "cell_type": "markdown",
   "metadata": {},
   "source": [
    "# Predicting Diagnosis of Urinary Bladder Inflammation & Nephritis:\n",
    "### Sklearn Implementation using Pipelines, Grid Search, and Ensemble Learning"
   ]
  },
  {
   "cell_type": "markdown",
   "metadata": {},
   "source": [
    "Authors: Tiffany J Munn (tiffany.munn@du.edu)* and Tai Chen Ye (tai-chen.ye@du.edu)*\n",
    "\n",
    "*University of Denver: Department of Computer Science and Engineering\n",
    "\n",
    "Last Update: August 27th, 2020\n",
    "\n",
    "Note:\n",
    "Many functions used in the code below were repurposed from:\n",
    "https://github.com/rasbt/python-machine-learning-book-3rd-edition Copyright (c) 2019 Sebastian Raschka"
   ]
  },
  {
   "cell_type": "markdown",
   "metadata": {},
   "source": [
    "# Experimental Objective"
   ]
  },
  {
   "cell_type": "markdown",
   "metadata": {},
   "source": [
    "### Dataset Description"
   ]
  },
  {
   "cell_type": "markdown",
   "metadata": {},
   "source": [
    "Often diseases of the urinary bladder present similarly, and this can make an accurate diagnosis and subsequent treatment challenging for practitioners. \n",
    "\n",
    "Researchers at the Systems Research Institute-Polish Academy of Sciences-Laboratory of Intelligent Systems, were interested in building an algorithm that can successfully diagnosis the presence of acute bladder inflammation and acute nephritis. \n",
    "\n",
    "Acute bladder inflammation is a general diagnosis that presents with abdominal pain, pain with urination(micturition), and slightly increased temperatures. Often symptoms do subside on their own, but are likely to return, especially if the root cause of the inflammation was not found and addressed.\n",
    "\n",
    "Acute nephritis happens when inflammation in the urinary system overtakes the kidneys. While it presents with similar symptoms as bladder inflammation, it also is associated with much higher temperatures, lumbar pain, nausea and vomiting. If left untreated, this condition can cause kidney failure.\n",
    "\n",
    "While these two diseases can occur simultaneously, it is most important to be able to distinguish the presence of each disease individually in order to create the proper treatment plan. For example, inflammation is often a symptom of nephritis, but the presence of inflammation without nephritis requires further diagnostic testing to determine the cause of the inflammation. Further, nephritis can occur without a diagnosis of bladder inflammation, but of course still needs to be treated to prevent kidney failure.\n",
    "\n",
    "These training examples were chosen because they represent the importance of distinguishing between similar diseases for proper treatment.  Accurate or inaccurate diagnoses can have a profound impact on a patient's health and therefore on our communities as a whole."
   ]
  },
  {
   "cell_type": "markdown",
   "metadata": {},
   "source": [
    "### UCI Machine Learning Repository Terms of Use"
   ]
  },
  {
   "cell_type": "markdown",
   "metadata": {},
   "source": [
    "The source of our data-the UCI Machine Learning Repository, achives data and makes it openly available for others to download and use. While this site does not have a Terms of Use, per se, it does ask if you are to publish analysis done with UCI data that you include these citations.\n",
    "\n",
    "Dua, D. and Graff, C. (2019). UCI Machine Learning Repository [http://archive.ics.uci.edu/ml]. Irvine, CA: University of California, School of Information and Computer Science.\n",
    "\n",
    "J.Czerniak, H.Zarzycki, Application of rough sets in the presumptive diagnosis of urinary system diseases,\n",
    "Artifical Inteligence and Security in Computing Systems, ACS'2002 9th International Conference Proceedings,\n",
    "Kluwer Academic Publishers,2003, pp. 41-51"
   ]
  },
  {
   "cell_type": "markdown",
   "metadata": {},
   "source": [
    "### Modeling Objectives"
   ]
  },
  {
   "cell_type": "markdown",
   "metadata": {},
   "source": [
    "Dataset Attribute Information:\n",
    "\n",
    "        a1 Temperature of patient { 35C-42C }\n",
    "        a2 Occurrence of nausea { yes, no }\n",
    "        a3 Lumbar pain { yes, no }\n",
    "        a4 Urine pushing (continuous need for urination) { yes, no }\n",
    "        a5 Micturition pains { yes, no }\n",
    "        a6 Burning of urethra, itch, swelling of urethra outlet { yes, no }\n",
    "        d1 decision: Inflammation of urinary bladder { yes, no }\n",
    "        d2 decision: Nephritis of renal pelvis origin { yes, no }\n",
    "\n",
    "While not specified by the authors, there are a few different ways to handle the outcome or target variables decision1 and decision2. One approach is to combine these decision variables into one target. That would result in the following categories:\n",
    "\n",
    "        1: Positive Inflammation Only\n",
    "        2: Positive Nephritis Only\n",
    "        3: Positive Inflammation and Nephritis\n",
    "        4: Negative for Inflammation and Nephritis\n",
    "\n",
    "The second approach is to treat each decision variable as an individual target and test the features ability to distinguish the presence of inflammation and nephritis independently with binary classifiers (presence of disease or no presence of disease). One's approach here is dependent on the goal of the analysis. In our case, we are more interested in learning the features that diagnosis each disease separately. Thus, we will attempt to answer the following questions:\n",
    "\n",
    "    1) What features successfully predict the presence or absence of bladder inflammation?\n",
    "    2) What features successfully predict the presence or absence of Nephritis?\n",
    "\n",
    "Thus, two y targets will be created, one targeting inflammation and one targeting nephritis.\n",
    "\n",
    "Follow-up analysis will switch focus to finding features that distinguish between the multiple categories listed above. Stay tuned for that work!\n",
    "\n",
    "Further details and a link to the archived data can be found here:\n",
    "https://archive.ics.uci.edu/ml/datasets/Acute+Inflammations"
   ]
  },
  {
   "cell_type": "markdown",
   "metadata": {},
   "source": [
    "# Data Preprocessing"
   ]
  },
  {
   "cell_type": "markdown",
   "metadata": {},
   "source": [
    "### Minimial Data Preprocessing Before Pipeline Creations"
   ]
  },
  {
   "cell_type": "markdown",
   "metadata": {},
   "source": [
    "Download and read in CSV data from the UCI Machine Learning Repository archive and read data as correct format without header."
   ]
  },
  {
   "cell_type": "code",
   "execution_count": 1,
   "metadata": {},
   "outputs": [
    {
     "data": {
      "text/html": [
       "<div>\n",
       "<style scoped>\n",
       "    .dataframe tbody tr th:only-of-type {\n",
       "        vertical-align: middle;\n",
       "    }\n",
       "\n",
       "    .dataframe tbody tr th {\n",
       "        vertical-align: top;\n",
       "    }\n",
       "\n",
       "    .dataframe thead th {\n",
       "        text-align: right;\n",
       "    }\n",
       "</style>\n",
       "<table border=\"1\" class=\"dataframe\">\n",
       "  <thead>\n",
       "    <tr style=\"text-align: right;\">\n",
       "      <th></th>\n",
       "      <th>0</th>\n",
       "      <th>1</th>\n",
       "      <th>2</th>\n",
       "      <th>3</th>\n",
       "      <th>4</th>\n",
       "      <th>5</th>\n",
       "      <th>6</th>\n",
       "      <th>7</th>\n",
       "    </tr>\n",
       "  </thead>\n",
       "  <tbody>\n",
       "    <tr>\n",
       "      <th>0</th>\n",
       "      <td>35,5</td>\n",
       "      <td>no</td>\n",
       "      <td>yes</td>\n",
       "      <td>no</td>\n",
       "      <td>no</td>\n",
       "      <td>no</td>\n",
       "      <td>no</td>\n",
       "      <td>no</td>\n",
       "    </tr>\n",
       "    <tr>\n",
       "      <th>1</th>\n",
       "      <td>\\n35,9</td>\n",
       "      <td>no</td>\n",
       "      <td>no</td>\n",
       "      <td>yes</td>\n",
       "      <td>yes</td>\n",
       "      <td>yes</td>\n",
       "      <td>yes</td>\n",
       "      <td>no</td>\n",
       "    </tr>\n",
       "    <tr>\n",
       "      <th>2</th>\n",
       "      <td>\\n35,9</td>\n",
       "      <td>no</td>\n",
       "      <td>yes</td>\n",
       "      <td>no</td>\n",
       "      <td>no</td>\n",
       "      <td>no</td>\n",
       "      <td>no</td>\n",
       "      <td>no</td>\n",
       "    </tr>\n",
       "    <tr>\n",
       "      <th>3</th>\n",
       "      <td>\\n36,0</td>\n",
       "      <td>no</td>\n",
       "      <td>no</td>\n",
       "      <td>yes</td>\n",
       "      <td>yes</td>\n",
       "      <td>yes</td>\n",
       "      <td>yes</td>\n",
       "      <td>no</td>\n",
       "    </tr>\n",
       "    <tr>\n",
       "      <th>4</th>\n",
       "      <td>\\n36,0</td>\n",
       "      <td>no</td>\n",
       "      <td>yes</td>\n",
       "      <td>no</td>\n",
       "      <td>no</td>\n",
       "      <td>no</td>\n",
       "      <td>no</td>\n",
       "      <td>no</td>\n",
       "    </tr>\n",
       "    <tr>\n",
       "      <th>...</th>\n",
       "      <td>...</td>\n",
       "      <td>...</td>\n",
       "      <td>...</td>\n",
       "      <td>...</td>\n",
       "      <td>...</td>\n",
       "      <td>...</td>\n",
       "      <td>...</td>\n",
       "      <td>...</td>\n",
       "    </tr>\n",
       "    <tr>\n",
       "      <th>116</th>\n",
       "      <td>\\n41,5</td>\n",
       "      <td>no</td>\n",
       "      <td>no</td>\n",
       "      <td>no</td>\n",
       "      <td>no</td>\n",
       "      <td>no</td>\n",
       "      <td>no</td>\n",
       "      <td>no</td>\n",
       "    </tr>\n",
       "    <tr>\n",
       "      <th>117</th>\n",
       "      <td>\\n41,5</td>\n",
       "      <td>yes</td>\n",
       "      <td>yes</td>\n",
       "      <td>no</td>\n",
       "      <td>yes</td>\n",
       "      <td>no</td>\n",
       "      <td>no</td>\n",
       "      <td>yes</td>\n",
       "    </tr>\n",
       "    <tr>\n",
       "      <th>118</th>\n",
       "      <td>\\n41,5</td>\n",
       "      <td>no</td>\n",
       "      <td>yes</td>\n",
       "      <td>yes</td>\n",
       "      <td>no</td>\n",
       "      <td>yes</td>\n",
       "      <td>no</td>\n",
       "      <td>yes</td>\n",
       "    </tr>\n",
       "    <tr>\n",
       "      <th>119</th>\n",
       "      <td>\\n41,5</td>\n",
       "      <td>no</td>\n",
       "      <td>yes</td>\n",
       "      <td>yes</td>\n",
       "      <td>no</td>\n",
       "      <td>yes</td>\n",
       "      <td>no</td>\n",
       "      <td>yes</td>\n",
       "    </tr>\n",
       "    <tr>\n",
       "      <th>120</th>\n",
       "      <td>\\n</td>\n",
       "      <td>NaN</td>\n",
       "      <td>NaN</td>\n",
       "      <td>NaN</td>\n",
       "      <td>NaN</td>\n",
       "      <td>NaN</td>\n",
       "      <td>NaN</td>\n",
       "      <td>NaN</td>\n",
       "    </tr>\n",
       "  </tbody>\n",
       "</table>\n",
       "<p>121 rows × 8 columns</p>\n",
       "</div>"
      ],
      "text/plain": [
       "          0    1    2    3    4    5    6    7\n",
       "0      35,5   no  yes   no   no   no   no   no\n",
       "1    \\n35,9   no   no  yes  yes  yes  yes   no\n",
       "2    \\n35,9   no  yes   no   no   no   no   no\n",
       "3    \\n36,0   no   no  yes  yes  yes  yes   no\n",
       "4    \\n36,0   no  yes   no   no   no   no   no\n",
       "..      ...  ...  ...  ...  ...  ...  ...  ...\n",
       "116  \\n41,5   no   no   no   no   no   no   no\n",
       "117  \\n41,5  yes  yes   no  yes   no   no  yes\n",
       "118  \\n41,5   no  yes  yes   no  yes   no  yes\n",
       "119  \\n41,5   no  yes  yes   no  yes   no  yes\n",
       "120      \\n  NaN  NaN  NaN  NaN  NaN  NaN  NaN\n",
       "\n",
       "[121 rows x 8 columns]"
      ]
     },
     "execution_count": 1,
     "metadata": {},
     "output_type": "execute_result"
    }
   ],
   "source": [
    "import pandas as pd\n",
    "import numpy as np\n",
    "df=pd.read_csv('diagnosis_data.data', encoding='utf-16', sep='\\t', lineterminator='\\r', header=None)\n",
    "\n",
    "df"
   ]
  },
  {
   "cell_type": "code",
   "execution_count": 2,
   "metadata": {},
   "outputs": [],
   "source": [
    "# after reading in we see the last row is blank, remove\n",
    "df=df.drop([120])"
   ]
  },
  {
   "cell_type": "code",
   "execution_count": 3,
   "metadata": {},
   "outputs": [],
   "source": [
    "#renaming columns to be more descriptive\n",
    "\n",
    "df=df.rename(columns={0: 'temp',1:'nausea',2:'lumbar_pain',3:'pushing',4: 'micturition', 5:'burning',\\\n",
    "                      6:'label_inflam', 7: 'label_nephr'})"
   ]
  },
  {
   "cell_type": "markdown",
   "metadata": {},
   "source": [
    "#### Note that sklearn's pipeline API does not allow for transformation of target variables. Since our targets are in the format of string 'yes' and 'no' we must use a label encoder to create binary outcomes before procedding."
   ]
  },
  {
   "cell_type": "code",
   "execution_count": 4,
   "metadata": {},
   "outputs": [
    {
     "data": {
      "text/html": [
       "<div>\n",
       "<style scoped>\n",
       "    .dataframe tbody tr th:only-of-type {\n",
       "        vertical-align: middle;\n",
       "    }\n",
       "\n",
       "    .dataframe tbody tr th {\n",
       "        vertical-align: top;\n",
       "    }\n",
       "\n",
       "    .dataframe thead th {\n",
       "        text-align: right;\n",
       "    }\n",
       "</style>\n",
       "<table border=\"1\" class=\"dataframe\">\n",
       "  <thead>\n",
       "    <tr style=\"text-align: right;\">\n",
       "      <th></th>\n",
       "      <th>temp</th>\n",
       "      <th>nausea</th>\n",
       "      <th>lumbar_pain</th>\n",
       "      <th>pushing</th>\n",
       "      <th>micturition</th>\n",
       "      <th>burning</th>\n",
       "      <th>label_inflam</th>\n",
       "      <th>label_nephr</th>\n",
       "    </tr>\n",
       "  </thead>\n",
       "  <tbody>\n",
       "    <tr>\n",
       "      <th>0</th>\n",
       "      <td>35,5</td>\n",
       "      <td>no</td>\n",
       "      <td>yes</td>\n",
       "      <td>no</td>\n",
       "      <td>no</td>\n",
       "      <td>no</td>\n",
       "      <td>0</td>\n",
       "      <td>0</td>\n",
       "    </tr>\n",
       "    <tr>\n",
       "      <th>1</th>\n",
       "      <td>\\n35,9</td>\n",
       "      <td>no</td>\n",
       "      <td>no</td>\n",
       "      <td>yes</td>\n",
       "      <td>yes</td>\n",
       "      <td>yes</td>\n",
       "      <td>1</td>\n",
       "      <td>0</td>\n",
       "    </tr>\n",
       "    <tr>\n",
       "      <th>2</th>\n",
       "      <td>\\n35,9</td>\n",
       "      <td>no</td>\n",
       "      <td>yes</td>\n",
       "      <td>no</td>\n",
       "      <td>no</td>\n",
       "      <td>no</td>\n",
       "      <td>0</td>\n",
       "      <td>0</td>\n",
       "    </tr>\n",
       "    <tr>\n",
       "      <th>3</th>\n",
       "      <td>\\n36,0</td>\n",
       "      <td>no</td>\n",
       "      <td>no</td>\n",
       "      <td>yes</td>\n",
       "      <td>yes</td>\n",
       "      <td>yes</td>\n",
       "      <td>1</td>\n",
       "      <td>0</td>\n",
       "    </tr>\n",
       "    <tr>\n",
       "      <th>4</th>\n",
       "      <td>\\n36,0</td>\n",
       "      <td>no</td>\n",
       "      <td>yes</td>\n",
       "      <td>no</td>\n",
       "      <td>no</td>\n",
       "      <td>no</td>\n",
       "      <td>0</td>\n",
       "      <td>0</td>\n",
       "    </tr>\n",
       "    <tr>\n",
       "      <th>...</th>\n",
       "      <td>...</td>\n",
       "      <td>...</td>\n",
       "      <td>...</td>\n",
       "      <td>...</td>\n",
       "      <td>...</td>\n",
       "      <td>...</td>\n",
       "      <td>...</td>\n",
       "      <td>...</td>\n",
       "    </tr>\n",
       "    <tr>\n",
       "      <th>115</th>\n",
       "      <td>\\n41,4</td>\n",
       "      <td>no</td>\n",
       "      <td>yes</td>\n",
       "      <td>yes</td>\n",
       "      <td>no</td>\n",
       "      <td>yes</td>\n",
       "      <td>0</td>\n",
       "      <td>1</td>\n",
       "    </tr>\n",
       "    <tr>\n",
       "      <th>116</th>\n",
       "      <td>\\n41,5</td>\n",
       "      <td>no</td>\n",
       "      <td>no</td>\n",
       "      <td>no</td>\n",
       "      <td>no</td>\n",
       "      <td>no</td>\n",
       "      <td>0</td>\n",
       "      <td>0</td>\n",
       "    </tr>\n",
       "    <tr>\n",
       "      <th>117</th>\n",
       "      <td>\\n41,5</td>\n",
       "      <td>yes</td>\n",
       "      <td>yes</td>\n",
       "      <td>no</td>\n",
       "      <td>yes</td>\n",
       "      <td>no</td>\n",
       "      <td>0</td>\n",
       "      <td>1</td>\n",
       "    </tr>\n",
       "    <tr>\n",
       "      <th>118</th>\n",
       "      <td>\\n41,5</td>\n",
       "      <td>no</td>\n",
       "      <td>yes</td>\n",
       "      <td>yes</td>\n",
       "      <td>no</td>\n",
       "      <td>yes</td>\n",
       "      <td>0</td>\n",
       "      <td>1</td>\n",
       "    </tr>\n",
       "    <tr>\n",
       "      <th>119</th>\n",
       "      <td>\\n41,5</td>\n",
       "      <td>no</td>\n",
       "      <td>yes</td>\n",
       "      <td>yes</td>\n",
       "      <td>no</td>\n",
       "      <td>yes</td>\n",
       "      <td>0</td>\n",
       "      <td>1</td>\n",
       "    </tr>\n",
       "  </tbody>\n",
       "</table>\n",
       "<p>120 rows × 8 columns</p>\n",
       "</div>"
      ],
      "text/plain": [
       "       temp nausea lumbar_pain pushing micturition burning  label_inflam  \\\n",
       "0      35,5     no         yes      no          no      no             0   \n",
       "1    \\n35,9     no          no     yes         yes     yes             1   \n",
       "2    \\n35,9     no         yes      no          no      no             0   \n",
       "3    \\n36,0     no          no     yes         yes     yes             1   \n",
       "4    \\n36,0     no         yes      no          no      no             0   \n",
       "..      ...    ...         ...     ...         ...     ...           ...   \n",
       "115  \\n41,4     no         yes     yes          no     yes             0   \n",
       "116  \\n41,5     no          no      no          no      no             0   \n",
       "117  \\n41,5    yes         yes      no         yes      no             0   \n",
       "118  \\n41,5     no         yes     yes          no     yes             0   \n",
       "119  \\n41,5     no         yes     yes          no     yes             0   \n",
       "\n",
       "     label_nephr  \n",
       "0              0  \n",
       "1              0  \n",
       "2              0  \n",
       "3              0  \n",
       "4              0  \n",
       "..           ...  \n",
       "115            1  \n",
       "116            0  \n",
       "117            1  \n",
       "118            1  \n",
       "119            1  \n",
       "\n",
       "[120 rows x 8 columns]"
      ]
     },
     "execution_count": 4,
     "metadata": {},
     "output_type": "execute_result"
    }
   ],
   "source": [
    "from sklearn.preprocessing import LabelEncoder\n",
    "class_le = LabelEncoder()\n",
    "targets=['label_inflam', 'label_nephr']\n",
    "for i in targets:\n",
    "    df[i] = class_le.fit_transform(df[i])\n",
    "\n",
    "df"
   ]
  },
  {
   "cell_type": "markdown",
   "metadata": {},
   "source": [
    "### Create Train and Test Sets for Each Target Variable"
   ]
  },
  {
   "cell_type": "code",
   "execution_count": 5,
   "metadata": {},
   "outputs": [],
   "source": [
    "from sklearn.model_selection import train_test_split\n",
    "\n",
    "#creating our Xs and ys for train and test\n",
    "\n",
    "#for inflammation\n",
    "\n",
    "X, y_inflam = df.iloc[:, :-2].values, df.iloc[:, -2].values\n",
    "\n",
    "X_train_inflam, X_test_inflam, y_train_inflam, y_test_inflam =\\\n",
    "    train_test_split(X, y_inflam, \n",
    "                     test_size=0.3, \n",
    "                     random_state=0, \n",
    "                     stratify=y_inflam)\n",
    "\n",
    "# for nephr\n",
    "# X is the same so just need to make y and then split\n",
    "y_nephr = df.iloc[:, -1].values\n",
    "X_train_nephr, X_test_nephr, y_train_nephr, y_test_nephr =\\\n",
    "    train_test_split(X, y_nephr,\n",
    "                     test_size=0.3, \n",
    "                     random_state=0, \n",
    "                     stratify=y_nephr)\n"
   ]
  },
  {
   "cell_type": "markdown",
   "metadata": {},
   "source": [
    "### Pipeline Creations"
   ]
  },
  {
   "cell_type": "markdown",
   "metadata": {},
   "source": [
    "To begin, we create a custom transformer that cleans our data and a custom transformer than encodes the categorical features of our data. We then implement a standard scaler to all our feature data.  Lastly, we implement our four algorithims into their respective pipelines."
   ]
  },
  {
   "cell_type": "markdown",
   "metadata": {},
   "source": [
    "### Create Preprocessing Steps of Pipeline"
   ]
  },
  {
   "cell_type": "code",
   "execution_count": 6,
   "metadata": {},
   "outputs": [],
   "source": [
    "import numpy as np \n",
    "import pandas as pd\n",
    "from sklearn.base import BaseEstimator, TransformerMixin\n",
    "from sklearn.preprocessing import OneHotEncoder, StandardScaler, LabelEncoder\n",
    "from sklearn.impute import SimpleImputer\n",
    "from sklearn.pipeline import FeatureUnion, Pipeline\n",
    "\n",
    "from sklearn.compose import ColumnTransformer\n",
    "\n",
    "#to select only the columns that were in our dimensionality reduction\n",
    "class ColumnExtractor(object):\n",
    "\n",
    "    def __init__(self, cols):\n",
    "        self.cols = cols\n",
    "\n",
    "    def transform(self, X):\n",
    "        col_list = []\n",
    "        for c in self.cols:\n",
    "            col_list.append(X[:, c:c+1])\n",
    "        return np.concatenate(col_list, axis=1)\n",
    "\n",
    "    def fit(self, X, y=None):\n",
    "        return self\n",
    "    \n",
    "    \n",
    "#Custom Transformer that cleans our numerical data\n",
    "class Clean_Num( BaseEstimator, TransformerMixin ):\n",
    "    #Class Constructor \n",
    "    def __init__( self):\n",
    "        return None\n",
    "    \n",
    "    #Return self nothing else to do here    \n",
    "    def fit( self, X, y = None ):\n",
    "        return self \n",
    "    \n",
    "    #Method that describes what we need this transformer to do\n",
    "    def transform( self, X, y = None ):\n",
    "        X[:,0]=np.char.replace([i for i in X[:,0]], '\\n', '')\n",
    "        X[:,0]=np.char.replace([i for i in X[:,0]], ',', '.')\n",
    "        X[:,0] = X[:,0].astype(np.float)\n",
    "        return X\n",
    "\n",
    "\n",
    "numerical_index=[0]\n",
    "\n",
    "categorical_indices=[1,2,3,4,5]\n",
    "\n",
    "\n",
    "#ColumnTransformer allows us to specific which features are transformed\n",
    "    \n",
    "cleaner = ColumnTransformer(transformers=[('clean', Clean_Num(), numerical_index)], remainder='passthrough')\n",
    "\n",
    "#encodes our binary feature data\n",
    "encoder= ColumnTransformer(transformers=[('encoder', OneHotEncoder(drop='first'), categorical_indices)], remainder='passthrough')\n"
   ]
  },
  {
   "cell_type": "markdown",
   "metadata": {},
   "source": [
    "### Feature Selection for Each Target"
   ]
  },
  {
   "cell_type": "code",
   "execution_count": 7,
   "metadata": {},
   "outputs": [
    {
     "name": "stdout",
     "output_type": "stream",
     "text": [
      "[0.05471079 0.18295535 0.34666687 0.20171931 0.04132375 0.17262393]\n"
     ]
    },
    {
     "data": {
      "image/png": "[encoded data removed]",
      "text/plain": [
       "<Figure size 432x288 with 1 Axes>"
      ]
     },
     "metadata": {
      "needs_background": "light"
     },
     "output_type": "display_data"
    },
    {
     "data": {
      "image/png": "[encoded data removed]",
      "text/plain": [
       "<Figure size 432x288 with 1 Axes>"
      ]
     },
     "metadata": {
      "needs_background": "light"
     },
     "output_type": "display_data"
    }
   ],
   "source": [
    "from sklearn.ensemble import RandomForestClassifier\n",
    "import matplotlib.pyplot as plt\n",
    "\n",
    "#For Inflammation Target\n",
    "feat_labels = df.columns[:-2]\n",
    "\n",
    "pipe_select_inflam = Pipeline(steps=[ \n",
    "                ('c', cleaner), ('e',encoder), \n",
    "                ('scaler', StandardScaler()), \n",
    "                ('forest', RandomForestClassifier(n_estimators=500,random_state=1))])\n",
    "                              \n",
    "                              \n",
    "pipe_select_inflam.fit(X_train_inflam, y_train_inflam)\n",
    "\n",
    "                             \n",
    "importances = pipe_select_inflam.steps[3][1].feature_importances_\n",
    "print(importances)\n",
    "\n",
    "indices = np.argsort(importances)[::-1]\n",
    "\n",
    "plt.title('Feature Importance for Inflammation')\n",
    "plt.bar(range(X_train_inflam.shape[1]), \n",
    "        importances[indices],\n",
    "        align='center')\n",
    "\n",
    "plt.xticks(range(X_train_inflam.shape[1]), \n",
    "           feat_labels[indices], rotation=90)\n",
    "plt.xlim([-1, X_train_inflam.shape[1]])\n",
    "plt.tight_layout()\n",
    "plt.show()\n",
    "\n",
    "\n",
    "#for nephritis\n",
    "pipe_select_inflam.fit(X_train_nephr, y_train_nephr)\n",
    "\n",
    "                             \n",
    "importances = pipe_select_inflam.steps[3][1].feature_importances_\n",
    "\n",
    "indices = np.argsort(importances)[::-1]\n",
    "\n",
    "plt.title('Feature Importance for Nephritis')\n",
    "plt.bar(range(X_train_inflam.shape[1]), \n",
    "        importances[indices],\n",
    "        align='center')\n",
    "\n",
    "plt.xticks(range(X_train_inflam.shape[1]), \n",
    "           feat_labels[indices], rotation=90)\n",
    "plt.xlim([-1, X_train_inflam.shape[1]])\n",
    "plt.tight_layout()\n",
    "plt.show()"
   ]
  },
  {
   "cell_type": "markdown",
   "metadata": {},
   "source": [
    "### Our Feature Subsets are as follows:"
   ]
  },
  {
   "cell_type": "code",
   "execution_count": 8,
   "metadata": {},
   "outputs": [
    {
     "name": "stdout",
     "output_type": "stream",
     "text": [
      "subset indices for inflammation: (2, 3, 1, 5)\n",
      "subset indices for nephritis: (5, 1, 0, 4)\n"
     ]
    }
   ],
   "source": [
    "# list of features to use for inflammation\n",
    "inflam_subset=['lumbar_pain', 'pushing','nausea', 'burning']\n",
    "\n",
    "#let's get the corresponding indices\n",
    "inflam_subset_ind=[]\n",
    "for column in inflam_subset:\n",
    "    index=df.columns.get_loc(column)\n",
    "    inflam_subset_ind.append(index)\n",
    "inflam_subset_ind=tuple(inflam_subset_ind)\n",
    "print(f'subset indices for inflammation: {inflam_subset_ind}')\n",
    "\n",
    "# list of features to use for nephritis\n",
    "nephr_subset=['burning','nausea', 'temp', 'micturition']\n",
    "\n",
    "#let's get the corresponding indices\n",
    "nephr_subset_ind=[]\n",
    "for column in nephr_subset:\n",
    "    index=df.columns.get_loc(column)\n",
    "    nephr_subset_ind.append(index)\n",
    "nephr_subset_ind=tuple(nephr_subset_ind)\n",
    "print(f'subset indices for nephritis: {nephr_subset_ind}')\n"
   ]
  },
  {
   "cell_type": "markdown",
   "metadata": {},
   "source": [
    "### K-nearest Neighbor Model Pipeline"
   ]
  },
  {
   "cell_type": "code",
   "execution_count": 9,
   "metadata": {},
   "outputs": [],
   "source": [
    "from sklearn.neighbors import KNeighborsClassifier\n",
    "from sklearn.model_selection import cross_val_score\n",
    "from sklearn.feature_selection import SelectFromModel\n",
    "from sklearn.ensemble import RandomForestClassifier\n",
    "\n",
    "#For Inflammation\n",
    "\n",
    "pipe_knn_inflam = Pipeline(steps=[ \n",
    "                ('c', cleaner), ('e',encoder), \n",
    "                ('scaler', StandardScaler()), \n",
    "                ('dim_red', ColumnExtractor(cols=inflam_subset_ind)),\n",
    "                ('knn', KNeighborsClassifier())])\n",
    "\n",
    "## For nephrititis\n",
    "\n",
    "pipe_knn_nephr = Pipeline(steps=[ \n",
    "                ('c', cleaner), ('e',encoder), \n",
    "                ('scaler', StandardScaler()), \n",
    "                ('dim_red', ColumnExtractor(nephr_subset_ind)),\n",
    "                ('knn', KNeighborsClassifier())])"
   ]
  },
  {
   "cell_type": "markdown",
   "metadata": {},
   "source": [
    "### Decision Tree  Model Pipeline"
   ]
  },
  {
   "cell_type": "code",
   "execution_count": 10,
   "metadata": {},
   "outputs": [],
   "source": [
    "from sklearn.tree import DecisionTreeClassifier\n",
    "\n",
    "#For Inflammation\n",
    "\n",
    "#recall that for decision trees and random forests data does not need to be scaled\n",
    "\n",
    "pipe_tree_inflam = Pipeline(steps=[ \n",
    "                ('c', cleaner), ('e',encoder), \n",
    "                ('dim_red', ColumnExtractor(cols=inflam_subset_ind)),\n",
    "                ('tree', DecisionTreeClassifier(random_state=1))])\n",
    "\n",
    "## For nephrititis\n",
    "\n",
    "pipe_tree_nephr = Pipeline(steps=[ \n",
    "                ('c', cleaner), ('e',encoder), \n",
    "                ('dim_red', ColumnExtractor(cols=nephr_subset_ind)),\n",
    "                ('tree', DecisionTreeClassifier(random_state=1))])"
   ]
  },
  {
   "cell_type": "markdown",
   "metadata": {},
   "source": [
    "### Random Forest Model Pipeline"
   ]
  },
  {
   "cell_type": "code",
   "execution_count": 11,
   "metadata": {},
   "outputs": [],
   "source": [
    "from sklearn.ensemble import RandomForestClassifier\n",
    "\n",
    "#For Inflammation\n",
    "\n",
    "pipe_forest_inflam = Pipeline(steps=[ \n",
    "                ('c', cleaner), ('e',encoder), \n",
    "                ('dim_red', ColumnExtractor(cols=inflam_subset_ind)),\n",
    "                ('forest', RandomForestClassifier(random_state=1))])\n",
    "\n",
    "## For nephrititis\n",
    "\n",
    "pipe_forest_nephr = Pipeline(steps=[ \n",
    "                ('c', cleaner), ('e',encoder), \n",
    "                ('dim_red', ColumnExtractor(cols=nephr_subset_ind)),\n",
    "                ('forest', RandomForestClassifier(random_state=1))])\n"
   ]
  },
  {
   "cell_type": "markdown",
   "metadata": {},
   "source": [
    "### Stochastic Gradient Descent using SVM Model Pipeline"
   ]
  },
  {
   "cell_type": "code",
   "execution_count": 12,
   "metadata": {},
   "outputs": [],
   "source": [
    "from sklearn.linear_model import SGDClassifier\n",
    "\n",
    "#For Inflammation\n",
    "\n",
    "pipe_sgd_inflam = Pipeline(steps=[ \n",
    "                ('c', cleaner), ('e',encoder), \n",
    "                ('scaler', StandardScaler()), \n",
    "                ('dim_red', ColumnExtractor(cols=inflam_subset_ind)),\n",
    "                ('sgd', SGDClassifier(random_state=1))])\n",
    "\n",
    "## For nephrititis\n",
    "\n",
    "pipe_sgd_nephr = Pipeline(steps=[ \n",
    "                ('c', cleaner), ('e',encoder), \n",
    "                ('scaler', StandardScaler()), \n",
    "                ('dim_red', ColumnExtractor(cols=nephr_subset_ind)),\n",
    "                ('sgd', SGDClassifier(random_state=1))])"
   ]
  },
  {
   "cell_type": "markdown",
   "metadata": {},
   "source": [
    "# Implementing Grid Search in Our Pipeline Models"
   ]
  },
  {
   "cell_type": "markdown",
   "metadata": {},
   "source": [
    "### K-nearest Neighbor Model for Inflammation"
   ]
  },
  {
   "cell_type": "code",
   "execution_count": 13,
   "metadata": {},
   "outputs": [
    {
     "name": "stdout",
     "output_type": "stream",
     "text": [
      "Best params from grid for inflammation: {'knn__metric': 'chebyshev', 'knn__n_neighbors': 1}\n",
      "Mean Training accuracy for Inflammation Target: 1.0\n",
      "Mean Testing accuracy for Inflammation Target: 1.0 \n",
      "\n",
      "Run Time :  1.6362160809985653 ms\n"
     ]
    }
   ],
   "source": [
    "from sklearn.neighbors import KNeighborsClassifier\n",
    "from sklearn.model_selection import GridSearchCV\n",
    "from sklearn.model_selection import cross_val_score\n",
    "import timeit\n",
    "\n",
    "params={'knn__n_neighbors': [1, 2, 3, 4, 5, 6, 7], 'knn__metric':['chebyshev','minkowski','manhattan'] }\n",
    "\n",
    "start = timeit.default_timer()\n",
    "# Exhaustive search over specified parameter values for an estimator.\n",
    "gs_knn_infl = GridSearchCV(pipe_knn_inflam, param_grid=params, scoring='accuracy', cv=5)\n",
    "\n",
    "\n",
    "#fit the model\n",
    "gs_knn_infl.fit(X_train_inflam, y_train_inflam)\n",
    "\n",
    "print(f'Best params from grid for inflammation: {gs_knn_infl.best_params_}')\n",
    "\n",
    "\n",
    "# Evaluate scores by cross-validation using the best_estimator\n",
    "scores_train = cross_val_score(gs_knn_infl.best_estimator_, X_train_inflam, y_train_inflam, \n",
    "                         scoring='accuracy', cv=5)\n",
    "\n",
    "scores_test = cross_val_score(gs_knn_infl.best_estimator_, X_test_inflam, y_test_inflam, \n",
    "                         scoring='accuracy', cv=5)\n",
    "\n",
    "stop = timeit.default_timer()\n",
    "run_time=stop-start\n",
    "\n",
    "print('Mean Training accuracy for Inflammation Target:',np.mean(scores_train))\n",
    "print('Mean Testing accuracy for Inflammation Target:',np.mean(scores_test),'\\n')\n",
    "print('Run Time : ', run_time, 'ms')  \n",
    "\n",
    "knn_inflam=[np.mean(scores_train),np.mean(scores_test),run_time]  "
   ]
  },
  {
   "cell_type": "markdown",
   "metadata": {},
   "source": [
    "### K-nearest Neighbor Model for Nephritis"
   ]
  },
  {
   "cell_type": "code",
   "execution_count": 14,
   "metadata": {},
   "outputs": [
    {
     "name": "stdout",
     "output_type": "stream",
     "text": [
      "Best params from grid for nephritis: {'knn__metric': 'chebyshev', 'knn__n_neighbors': 1}\n",
      "Mean Training accuracy for Nephritis Target: 1.0\n",
      "Mean Testing accuracy for Nephritis Target: 1.0 \n",
      "\n",
      "Run Time :  1.684729270000389 ms\n"
     ]
    }
   ],
   "source": [
    "params={'knn__n_neighbors': [1, 2, 3, 4, 5, 6, 7], 'knn__metric':['chebyshev','minkowski','manhattan'] }\n",
    "\n",
    "start = timeit.default_timer()\n",
    "\n",
    "# Exhaustive search over specified parameter values for an estimator.\n",
    "gs_knn_nephr = GridSearchCV(pipe_knn_nephr, param_grid=params, scoring='accuracy', cv=5)\n",
    "\n",
    "\n",
    "#fit the model\n",
    "gs_knn_nephr.fit(X_train_nephr, y_train_nephr)\n",
    "\n",
    "print(f'Best params from grid for nephritis: {gs_knn_nephr.best_params_}')\n",
    "\n",
    "\n",
    "# Evaluate scores by cross-validation using the best_estimator\n",
    "scores_train = cross_val_score(gs_knn_nephr.best_estimator_, X_train_nephr, y_train_nephr, \n",
    "                         scoring='accuracy', cv=5)\n",
    "\n",
    "scores_test = cross_val_score(gs_knn_nephr.best_estimator_, X_test_nephr, y_test_nephr, \n",
    "                         scoring='accuracy', cv=5)\n",
    "stop = timeit.default_timer()\n",
    "run_time=stop-start\n",
    "\n",
    "print('Mean Training accuracy for Nephritis Target:',np.mean(scores_train))\n",
    "print('Mean Testing accuracy for Nephritis Target:',np.mean(scores_test),'\\n')\n",
    "\n",
    "print('Run Time : ', run_time, 'ms')  \n",
    "\n",
    "knn_nephr=[np.mean(scores_train),np.mean(scores_test),run_time]  \n"
   ]
  },
  {
   "cell_type": "markdown",
   "metadata": {},
   "source": [
    "### Decision Tree  Model for Inflammation"
   ]
  },
  {
   "cell_type": "code",
   "execution_count": 15,
   "metadata": {},
   "outputs": [
    {
     "name": "stdout",
     "output_type": "stream",
     "text": [
      "Best params from grid for inflammation: {'tree__criterion': 'gini', 'tree__max_depth': 3}\n",
      "Mean Training accuracy for Inflammation Target: 1.0\n",
      "Mean Testing accuracy for Inflammation Target: 0.95 \n",
      "\n",
      "Run Time :  0.7121441210001649 ms\n"
     ]
    }
   ],
   "source": [
    "from sklearn.tree import DecisionTreeClassifier\n",
    "\n",
    "params={'tree__max_depth': [1, 2, 3, 4, 5, 6, 7, 8], 'tree__criterion':['gini', 'entropy'] }\n",
    "\n",
    "start = timeit.default_timer()\n",
    "\n",
    "# Exhaustive search over specified parameter values for an estimator.\n",
    "gs_tree_inflam = GridSearchCV(pipe_tree_inflam, param_grid=params, scoring='accuracy', cv=5)\n",
    "\n",
    "\n",
    "#fit the model\n",
    "gs_tree_inflam.fit(X_train_inflam, y_train_inflam)\n",
    "\n",
    "print(f'Best params from grid for inflammation: {gs_tree_inflam.best_params_}')\n",
    "\n",
    "\n",
    "# Evaluate scores by cross-validation using the best_estimator\n",
    "scores_train = cross_val_score(gs_tree_inflam.best_estimator_, X_train_inflam, y_train_inflam, \n",
    "                         scoring='accuracy', cv=5)\n",
    "\n",
    "scores_test = cross_val_score(gs_tree_inflam.best_estimator_, X_test_inflam, y_test_inflam, \n",
    "                         scoring='accuracy', cv=5)\n",
    "\n",
    "\n",
    "stop = timeit.default_timer()\n",
    "run_time=stop-start\n",
    "\n",
    "print('Mean Training accuracy for Inflammation Target:',np.mean(scores_train))\n",
    "print('Mean Testing accuracy for Inflammation Target:',np.mean(scores_test),'\\n')\n",
    "\n",
    "print('Run Time : ', run_time, 'ms')  \n",
    "\n",
    "tree_inflam=[np.mean(scores_train),np.mean(scores_test),run_time]  "
   ]
  },
  {
   "cell_type": "markdown",
   "metadata": {},
   "source": [
    "### Decision Tree  Model for Nephritis"
   ]
  },
  {
   "cell_type": "code",
   "execution_count": 16,
   "metadata": {},
   "outputs": [
    {
     "name": "stdout",
     "output_type": "stream",
     "text": [
      "Best params from grid for nephritis: {'tree__criterion': 'gini', 'tree__max_depth': 2}\n",
      "Mean Training accuracy for Nephritis Target: 0.9882352941176471\n",
      "Mean Testing accuracy for Nephritis Target: 0.9714285714285713 \n",
      "\n",
      "Run Time :  0.6325188519986114 ms\n"
     ]
    }
   ],
   "source": [
    "params={'tree__max_depth': [1, 2, 3, 4, 5, 6, 7, 8], 'tree__criterion':['gini', 'entropy'] }\n",
    "\n",
    "start = timeit.default_timer()\n",
    "# Exhaustive search over specified parameter values for an estimator.\n",
    "gs_tree_nephr = GridSearchCV(pipe_tree_nephr, param_grid=params, scoring='accuracy', cv=5)\n",
    "\n",
    "\n",
    "#fit the model\n",
    "gs_tree_nephr.fit(X_train_nephr, y_train_nephr)\n",
    "\n",
    "print(f'Best params from grid for nephritis: {gs_tree_nephr.best_params_}')\n",
    "\n",
    "\n",
    "# Evaluate scores by cross-validation using the best_estimator\n",
    "scores_train = cross_val_score(gs_tree_nephr.best_estimator_, X_train_nephr, y_train_nephr, \n",
    "                         scoring='accuracy', cv=5)\n",
    "\n",
    "scores_test = cross_val_score(gs_tree_nephr.best_estimator_, X_test_nephr, y_test_nephr, \n",
    "                         scoring='accuracy', cv=5)\n",
    "\n",
    "\n",
    "stop = timeit.default_timer()\n",
    "run_time=stop-start\n",
    "\n",
    "print('Mean Training accuracy for Nephritis Target:',np.mean(scores_train))\n",
    "print('Mean Testing accuracy for Nephritis Target:',np.mean(scores_test),'\\n')\n",
    "print('Run Time : ', run_time, 'ms')  \n",
    "\n",
    "tree_nephr=[np.mean(scores_train),np.mean(scores_test),run_time]  "
   ]
  },
  {
   "cell_type": "markdown",
   "metadata": {},
   "source": [
    "### Random Forest Model for Inflammation"
   ]
  },
  {
   "cell_type": "code",
   "execution_count": 17,
   "metadata": {},
   "outputs": [
    {
     "name": "stdout",
     "output_type": "stream",
     "text": [
      "Best params from grid for inflammation: {'forest__criterion': 'gini', 'forest__n_estimators': 50}\n",
      "Mean Training accuracy for Inflammation Target: 1.0\n",
      "Mean Testing accuracy for Inflammation Target: 0.95 \n",
      "\n",
      "Run Time :  6.722430608999275 ms\n"
     ]
    }
   ],
   "source": [
    "from sklearn.ensemble import RandomForestClassifier\n",
    "\n",
    "params={'forest__n_estimators': [50, 100, 150], 'forest__criterion':['gini', 'entropy'] }\n",
    "\n",
    "start = timeit.default_timer()\n",
    "\n",
    "# Exhaustive search over specified parameter values for an estimator.\n",
    "gs_f_inflam = GridSearchCV(pipe_forest_inflam, param_grid=params, scoring='accuracy', cv=5)\n",
    "\n",
    "\n",
    "#fit the model\n",
    "gs_f_inflam.fit(X_train_inflam, y_train_inflam)\n",
    "\n",
    "print(f'Best params from grid for inflammation: {gs_f_inflam.best_params_}')\n",
    "\n",
    "\n",
    "# Evaluate scores by cross-validation using the best_estimator\n",
    "scores_train = cross_val_score(gs_f_inflam.best_estimator_, X_train_inflam, y_train_inflam, \n",
    "                         scoring='accuracy', cv=5)\n",
    "\n",
    "scores_test = cross_val_score(gs_f_inflam.best_estimator_, X_test_inflam, y_test_inflam, \n",
    "                         scoring='accuracy', cv=5)\n",
    "\n",
    "stop = timeit.default_timer()\n",
    "run_time=stop-start\n",
    "\n",
    "print('Mean Training accuracy for Inflammation Target:',np.mean(scores_train))\n",
    "print('Mean Testing accuracy for Inflammation Target:',np.mean(scores_test),'\\n')\n",
    "print('Run Time : ', run_time, 'ms')  \n",
    "\n",
    "forest_inflam=[np.mean(scores_train),np.mean(scores_test),run_time]  \n"
   ]
  },
  {
   "cell_type": "markdown",
   "metadata": {},
   "source": [
    "### Random Forest Model for Nephritis"
   ]
  },
  {
   "cell_type": "code",
   "execution_count": 18,
   "metadata": {},
   "outputs": [
    {
     "name": "stdout",
     "output_type": "stream",
     "text": [
      "Best params from grid for inflammation: {'forest__criterion': 'gini', 'forest__n_estimators': 50}\n",
      "Mean Training accuracy for Nephritis Target: 0.9882352941176471\n",
      "Mean Testing accuracy for Nephritis Target: 1.0 \n",
      "\n",
      "Run Time :  7.404609699999128 ms\n"
     ]
    }
   ],
   "source": [
    "from sklearn.ensemble import RandomForestClassifier\n",
    "\n",
    "params={'forest__n_estimators': [50, 100, 150], 'forest__criterion':['gini', 'entropy'] }\n",
    "\n",
    "start = timeit.default_timer()\n",
    "\n",
    "# Exhaustive search over specified parameter values for an estimator.\n",
    "gs_f_nephr = GridSearchCV(pipe_forest_nephr, param_grid=params, scoring='accuracy', cv=5)\n",
    "\n",
    "\n",
    "#fit the model\n",
    "gs_f_nephr.fit(X_train_nephr, y_train_nephr)\n",
    "\n",
    "print(f'Best params from grid for inflammation: {gs_f_nephr.best_params_}')\n",
    "\n",
    "\n",
    "# Evaluate scores by cross-validation using the best_estimator\n",
    "scores_train = cross_val_score(gs_f_nephr.best_estimator_, X_train_nephr, y_train_nephr, \n",
    "                         scoring='accuracy', cv=5)\n",
    "\n",
    "scores_test = cross_val_score(gs_f_nephr.best_estimator_, X_test_nephr, y_test_nephr, \n",
    "                         scoring='accuracy', cv=5)\n",
    "stop = timeit.default_timer()\n",
    "run_time=stop-start\n",
    "\n",
    "print('Mean Training accuracy for Nephritis Target:',np.mean(scores_train))\n",
    "print('Mean Testing accuracy for Nephritis Target:',np.mean(scores_test),'\\n')\n",
    "print('Run Time : ', run_time, 'ms')  \n",
    "\n",
    "forest_nephr=[np.mean(scores_train),np.mean(scores_test),run_time]  "
   ]
  },
  {
   "cell_type": "markdown",
   "metadata": {},
   "source": [
    "### Stochastic Gradient Descent for Inflammation"
   ]
  },
  {
   "cell_type": "code",
   "execution_count": 19,
   "metadata": {},
   "outputs": [
    {
     "name": "stdout",
     "output_type": "stream",
     "text": [
      "Best params from grid for inflammation: {'sgd__alpha': 0.0001, 'sgd__loss': 'hinge', 'sgd__penalty': 'l2'}\n",
      "Mean Training accuracy for Inflammation Target: 1.0\n",
      "Mean Testing accuracy for Inflammation Target: 0.95 \n",
      "\n",
      "Run Time :  1.5348493929996039 ms\n"
     ]
    }
   ],
   "source": [
    "from sklearn.linear_model import SGDClassifier\n",
    "\n",
    "\n",
    "params={'sgd__alpha': [0.0001, 0.001, 0.01, 0.1], 'sgd__loss':[\"hinge\", \"squared_hinge\", \"modified_huber\"],\n",
    "       \"sgd__penalty\" : [\"l2\", \"l1\", \"none\"]}\n",
    "\n",
    "start = timeit.default_timer()\n",
    "# Exhaustive search over specified parameter values for an estimator.\n",
    "gs_sgd_inflam = GridSearchCV(pipe_sgd_inflam, param_grid=params, scoring='accuracy', cv=5)\n",
    "\n",
    "\n",
    "#fit the model\n",
    "gs_sgd_inflam.fit(X_train_inflam, y_train_inflam)\n",
    "\n",
    "print(f'Best params from grid for inflammation: {gs_sgd_inflam.best_params_}')\n",
    "\n",
    "\n",
    "# Evaluate scores by cross-validation using the best_estimator\n",
    "scores_train = cross_val_score(gs_sgd_inflam.best_estimator_, X_train_inflam, y_train_inflam, \n",
    "                         scoring='accuracy', cv=5)\n",
    "\n",
    "scores_test = cross_val_score(gs_sgd_inflam.best_estimator_, X_test_inflam, y_test_inflam, \n",
    "                         scoring='accuracy', cv=5)\n",
    "\n",
    "stop = timeit.default_timer()\n",
    "run_time=stop-start\n",
    "\n",
    "print('Mean Training accuracy for Inflammation Target:',np.mean(scores_train))\n",
    "print('Mean Testing accuracy for Inflammation Target:',np.mean(scores_test),'\\n')\n",
    "print('Run Time : ', run_time, 'ms')  \n",
    "\n",
    "sgd_inflam=[np.mean(scores_train),np.mean(scores_test),run_time]  "
   ]
  },
  {
   "cell_type": "markdown",
   "metadata": {},
   "source": [
    "### Stochastic Gradient Descent for Nephritis"
   ]
  },
  {
   "cell_type": "code",
   "execution_count": 20,
   "metadata": {},
   "outputs": [
    {
     "name": "stdout",
     "output_type": "stream",
     "text": [
      "Best params from grid for inflammation: {'sgd__alpha': 0.0001, 'sgd__loss': 'hinge', 'sgd__penalty': 'l2'}\n",
      "Mean Training accuracy for Nephritis Target: 1.0\n",
      "Mean Testing accuracy for Nephritis Target: 1.0 \n",
      "\n",
      "Run Time :  1.448790641999949 ms\n"
     ]
    }
   ],
   "source": [
    "params={'sgd__alpha': [0.0001, 0.001, 0.01, 0.1], 'sgd__loss':[\"hinge\", \"squared_hinge\", \"modified_huber\"],\n",
    "       \"sgd__penalty\" : [\"l2\", \"l1\", \"none\"]}\n",
    "\n",
    "start = timeit.default_timer()\n",
    "# Exhaustive search over specified parameter values for an estimator.\n",
    "gs_sgd_nephr = GridSearchCV(pipe_sgd_nephr, param_grid=params, scoring='accuracy', cv=5)\n",
    "\n",
    "\n",
    "#fit the model\n",
    "gs_sgd_nephr.fit(X_train_nephr, y_train_nephr)\n",
    "\n",
    "print(f'Best params from grid for inflammation: {gs_sgd_nephr.best_params_}')\n",
    "\n",
    "\n",
    "# Evaluate scores by cross-validation using the best_estimator\n",
    "scores_train = cross_val_score(gs_sgd_nephr.best_estimator_, X_train_nephr, y_train_nephr, \n",
    "                         scoring='accuracy', cv=5)\n",
    "\n",
    "scores_test = cross_val_score(gs_sgd_nephr.best_estimator_, X_test_nephr, y_test_nephr, \n",
    "                         scoring='accuracy', cv=5)\n",
    "\n",
    "stop = timeit.default_timer()\n",
    "run_time=stop-start\n",
    "\n",
    "print('Mean Training accuracy for Nephritis Target:',np.mean(scores_train))\n",
    "print('Mean Testing accuracy for Nephritis Target:',np.mean(scores_test),'\\n')\n",
    "print('Run Time : ', run_time, 'ms')  \n",
    "\n",
    "sgd_nephr=[np.mean(scores_train),np.mean(scores_test),run_time]  "
   ]
  },
  {
   "cell_type": "code",
   "execution_count": 21,
   "metadata": {},
   "outputs": [],
   "source": [
    "data1 = {'SGD':sgd_inflam, 'Tree':tree_inflam, 'Random_Forest': forest_inflam,'KNN':knn_inflam  }\n",
    "data2 = {'SGD':sgd_nephr, 'Tree':tree_nephr, 'Random_Forest': forest_nephr,'KNN':knn_nephr }\n",
    "\n",
    "inflam_results = pd.DataFrame(data1,index=['Training accuracy', 'Testing accuracy', 'Running Time'])"
   ]
  },
  {
   "cell_type": "code",
   "execution_count": 22,
   "metadata": {},
   "outputs": [
    {
     "name": "stdout",
     "output_type": "stream",
     "text": [
      "Results for Inflammation Target\n"
     ]
    },
    {
     "data": {
      "image/png": "[encoded data removed]",
      "text/plain": [
       "<Figure size 432x288 with 1 Axes>"
      ]
     },
     "metadata": {
      "needs_background": "light"
     },
     "output_type": "display_data"
    }
   ],
   "source": [
    "print(f'Results for Inflammation Target')\n",
    "ax = inflam_results.drop(['Running Time'], axis=0).plot.bar(rot=0)"
   ]
  },
  {
   "cell_type": "code",
   "execution_count": 23,
   "metadata": {},
   "outputs": [
    {
     "data": {
      "image/png": "[encoded data removed]",
      "text/plain": [
       "<Figure size 504x288 with 1 Axes>"
      ]
     },
     "metadata": {
      "needs_background": "light"
     },
     "output_type": "display_data"
    }
   ],
   "source": [
    "inflam_results.iloc[2,:].plot.bar(rot=0,subplots=True,figsize=(7,4), title='Inflammation Target');"
   ]
  },
  {
   "cell_type": "code",
   "execution_count": 24,
   "metadata": {},
   "outputs": [],
   "source": [
    "nephr_results = pd.DataFrame(data2,index=['Training accuracy', 'Testing accuracy', 'Running Time'])"
   ]
  },
  {
   "cell_type": "code",
   "execution_count": 25,
   "metadata": {},
   "outputs": [
    {
     "name": "stdout",
     "output_type": "stream",
     "text": [
      "Results for Nephritis Target\n"
     ]
    },
    {
     "data": {
      "image/png": "[encoded data removed]",
      "text/plain": [
       "<Figure size 432x288 with 1 Axes>"
      ]
     },
     "metadata": {
      "needs_background": "light"
     },
     "output_type": "display_data"
    }
   ],
   "source": [
    "print(f'Results for Nephritis Target')\n",
    "ax = nephr_results.drop(['Running Time'], axis=0).plot.bar(rot=0)"
   ]
  },
  {
   "cell_type": "code",
   "execution_count": 26,
   "metadata": {},
   "outputs": [
    {
     "data": {
      "image/png": "[encoded data removed]",
      "text/plain": [
       "<Figure size 504x288 with 1 Axes>"
      ]
     },
     "metadata": {
      "needs_background": "light"
     },
     "output_type": "display_data"
    }
   ],
   "source": [
    "nephr_results.iloc[2,:].plot.bar(rot=0,subplots=True,figsize=(7,4), title='Nephritis Target');"
   ]
  },
  {
   "cell_type": "markdown",
   "metadata": {},
   "source": [
    "# Demonstrating a Confusion Matrix"
   ]
  },
  {
   "cell_type": "markdown",
   "metadata": {},
   "source": [
    "### K-nearest Neighbor Model"
   ]
  },
  {
   "cell_type": "code",
   "execution_count": 27,
   "metadata": {},
   "outputs": [
    {
     "name": "stdout",
     "output_type": "stream",
     "text": [
      "Confusion Matrix for Inflammation Taraget\n"
     ]
    },
    {
     "data": {
      "image/png": "[encoded data removed]",
      "text/plain": [
       "<Figure size 180x180 with 1 Axes>"
      ]
     },
     "metadata": {
      "needs_background": "light"
     },
     "output_type": "display_data"
    },
    {
     "name": "stdout",
     "output_type": "stream",
     "text": [
      "Confusion Matrix for Nephritis Taraget\n"
     ]
    },
    {
     "data": {
      "image/png": "[encoded data removed]",
      "text/plain": [
       "<Figure size 180x180 with 1 Axes>"
      ]
     },
     "metadata": {
      "needs_background": "light"
     },
     "output_type": "display_data"
    }
   ],
   "source": [
    "from sklearn.metrics import confusion_matrix\n",
    "\n",
    "# for Inflammation\n",
    "\n",
    "y_pred= gs_knn_infl.best_estimator_.predict(X_test_inflam)\n",
    "con_m=confusion_matrix(y_test_inflam,y_pred)\n",
    "\n",
    "fig, ax = plt.subplots(figsize=(2.5, 2.5))\n",
    "ax.matshow(con_m, cmap=plt.cm.Greens, alpha=0.3)\n",
    "for i in range(con_m.shape[0]):\n",
    "    for j in range(con_m.shape[1]):\n",
    "        ax.text(x=j, y=i, s=con_m[i, j], va='center', ha='center')\n",
    "\n",
    "print('Confusion Matrix for Inflammation Taraget')\n",
    "plt.xlabel('Predicted label')\n",
    "plt.ylabel('True label')\n",
    "plt.tight_layout()\n",
    "plt.show()\n",
    "\n",
    "\n",
    "# for Nephritits\n",
    "\n",
    "y_pred= gs_knn_nephr.best_estimator_.predict(X_test_nephr)\n",
    "con_m=confusion_matrix(y_test_nephr,y_pred)\n",
    "\n",
    "fig, ax = plt.subplots(figsize=(2.5, 2.5))\n",
    "ax.matshow(con_m, cmap=plt.cm.Greens, alpha=0.3)\n",
    "for i in range(con_m.shape[0]):\n",
    "    for j in range(con_m.shape[1]):\n",
    "        ax.text(x=j, y=i, s=con_m[i, j], va='center', ha='center')\n",
    "\n",
    "print('Confusion Matrix for Nephritis Taraget')\n",
    "plt.xlabel('Predicted label')\n",
    "plt.ylabel('True label')\n",
    "plt.tight_layout()\n",
    "plt.show()"
   ]
  },
  {
   "cell_type": "markdown",
   "metadata": {},
   "source": [
    "Note: for all models and both targets the confusion matrix produced was the same as the one shown here for KNN. Thus, only one is displayed."
   ]
  },
  {
   "cell_type": "markdown",
   "metadata": {},
   "source": [
    "# Implementing An Ensemble with MajorityVoteClassifier"
   ]
  },
  {
   "cell_type": "markdown",
   "metadata": {},
   "source": [
    "Function below repurposed from:\n",
    "https://github.com/rasbt/python-machine-learning-book-3rd-edition Copyright (c) 2019 Sebastian Raschka"
   ]
  },
  {
   "cell_type": "code",
   "execution_count": 28,
   "metadata": {},
   "outputs": [],
   "source": [
    "from sklearn.base import BaseEstimator\n",
    "from sklearn.base import ClassifierMixin\n",
    "from sklearn.preprocessing import LabelEncoder\n",
    "from sklearn.base import clone\n",
    "from sklearn.pipeline import _name_estimators\n",
    "import numpy as np\n",
    "import operator\n",
    "\n",
    "\n",
    "class MajorityVoteClassifier(BaseEstimator, \n",
    "                             ClassifierMixin):\n",
    "    \"\"\" A majority vote ensemble classifier\n",
    "\n",
    "    Parameters\n",
    "    ----------\n",
    "    classifiers : array-like, shape = [n_classifiers]\n",
    "      Different classifiers for the ensemble\n",
    "\n",
    "    vote : str, {'classlabel', 'probability'} (default='classlabel')\n",
    "      If 'classlabel' the prediction is based on the argmax of\n",
    "        class labels. Else if 'probability', the argmax of\n",
    "        the sum of probabilities is used to predict the class label\n",
    "        (recommended for calibrated classifiers).\n",
    "\n",
    "    weights : array-like, shape = [n_classifiers], optional (default=None)\n",
    "      If a list of `int` or `float` values are provided, the classifiers\n",
    "      are weighted by importance; Uses uniform weights if `weights=None`.\n",
    "\n",
    "    \"\"\"\n",
    "    def __init__(self, classifiers, vote='classlabel', weights=None):\n",
    "\n",
    "        self.classifiers = classifiers\n",
    "        self.named_classifiers = {key: value for key, value\n",
    "                                  in _name_estimators(classifiers)}\n",
    "        self.vote = vote\n",
    "        self.weights = weights\n",
    "\n",
    "    def fit(self, X, y):\n",
    "        \"\"\" Fit classifiers.\n",
    "\n",
    "        Parameters\n",
    "        ----------\n",
    "        X : {array-like, sparse matrix}, shape = [n_examples, n_features]\n",
    "            Matrix of training examples.\n",
    "\n",
    "        y : array-like, shape = [n_examples]\n",
    "            Vector of target class labels.\n",
    "\n",
    "        Returns\n",
    "        -------\n",
    "        self : object\n",
    "\n",
    "        \"\"\"\n",
    "        if self.vote not in ('probability', 'classlabel'):\n",
    "            raise ValueError(\"vote must be 'probability' or 'classlabel'\"\n",
    "                             \"; got (vote=%r)\"\n",
    "                             % self.vote)\n",
    "\n",
    "        if self.weights and len(self.weights) != len(self.classifiers):\n",
    "            raise ValueError('Number of classifiers and weights must be equal'\n",
    "                             '; got %d weights, %d classifiers'\n",
    "                             % (len(self.weights), len(self.classifiers)))\n",
    "\n",
    "        # Use LabelEncoder to ensure class labels start with 0, which\n",
    "        # is important for np.argmax call in self.predict\n",
    "        self.lablenc_ = LabelEncoder()\n",
    "        self.lablenc_.fit(y)\n",
    "        self.classes_ = self.lablenc_.classes_\n",
    "        self.classifiers_ = []\n",
    "        for clf in self.classifiers:\n",
    "            fitted_clf = clone(clf).fit(X, self.lablenc_.transform(y))\n",
    "            self.classifiers_.append(fitted_clf)\n",
    "        return self\n",
    "\n",
    "    def predict(self, X):\n",
    "        \"\"\" Predict class labels for X.\n",
    "\n",
    "        Parameters\n",
    "        ----------\n",
    "        X : {array-like, sparse matrix}, shape = [n_examples, n_features]\n",
    "            Matrix of training examples.\n",
    "\n",
    "        Returns\n",
    "        ----------\n",
    "        maj_vote : array-like, shape = [n_examples]\n",
    "            Predicted class labels.\n",
    "            \n",
    "        \"\"\"\n",
    "        if self.vote == 'probability':\n",
    "            maj_vote = np.argmax(self.predict_proba(X), axis=1)\n",
    "        else:  # 'classlabel' vote\n",
    "\n",
    "            #  Collect results from clf.predict calls\n",
    "            predictions = np.asarray([clf.predict(X)\n",
    "                                      for clf in self.classifiers_]).T\n",
    "\n",
    "            maj_vote = np.apply_along_axis(\n",
    "                                      lambda x:\n",
    "                                      np.argmax(np.bincount(x,\n",
    "                                                weights=self.weights)),\n",
    "                                      axis=1,\n",
    "                                      arr=predictions)\n",
    "        maj_vote = self.lablenc_.inverse_transform(maj_vote)\n",
    "        return maj_vote\n",
    "\n",
    "    def predict_proba(self, X):\n",
    "        \"\"\" Predict class probabilities for X.\n",
    "\n",
    "        Parameters\n",
    "        ----------\n",
    "        X : {array-like, sparse matrix}, shape = [n_examples, n_features]\n",
    "            Training vectors, where n_examples is the number of examples and\n",
    "            n_features is the number of features.\n",
    "\n",
    "        Returns\n",
    "        ----------\n",
    "        avg_proba : array-like, shape = [n_examples, n_classes]\n",
    "            Weighted average probability for each class per example.\n",
    "\n",
    "        \"\"\"\n",
    "        probas = np.asarray([clf.predict_proba(X)\n",
    "                             for clf in self.classifiers_])\n",
    "        avg_proba = np.average(probas, axis=0, weights=self.weights)\n",
    "        return avg_proba\n",
    "    \n",
    "    #this section might be useful for getting grid search params\n",
    "\n",
    "    def get_params(self, deep=True):\n",
    "        \"\"\" Get classifier parameter names for GridSearch\"\"\"\n",
    "        if not deep:\n",
    "            return super(MajorityVoteClassifier, self).get_params(deep=False)\n",
    "        else:\n",
    "            out = self.named_classifiers.copy()\n",
    "            for name, step in self.named_classifiers.items():\n",
    "                for key, value in step.get_params(deep=True).items():\n",
    "                    out['%s__%s' % (name, key)] = value\n",
    "            return out"
   ]
  },
  {
   "cell_type": "markdown",
   "metadata": {},
   "source": [
    "### Using MajorityVoteClassifier on Our Data"
   ]
  },
  {
   "cell_type": "markdown",
   "metadata": {},
   "source": [
    "#### For Inflammation Target"
   ]
  },
  {
   "cell_type": "markdown",
   "metadata": {},
   "source": [
    "Since, the implementation of roc_auc score does not easily support SGD with SVM, we decided to use recall as our scoring method. With this data, it is better for a practitioner to handle False Positives by doing differential diagonis than have a false negative that could led to kidney failure. In addition, the treatments for both diseases have very little side effects even if the patient was a False Postive. "
   ]
  },
  {
   "cell_type": "code",
   "execution_count": 29,
   "metadata": {},
   "outputs": [
    {
     "name": "stdout",
     "output_type": "stream",
     "text": [
      "ROC AUC: 1.00 (+/- 0.00) [KNN]\n",
      "ROC AUC: 1.00 (+/- 0.00) [Tree]\n",
      "ROC AUC: 1.00 (+/- 0.00) [Forest]\n",
      "ROC AUC: 1.00 (+/- 0.00) [SGD]\n",
      "ROC AUC: 1.00 (+/- 0.00) [Majority voting]\n"
     ]
    }
   ],
   "source": [
    "mv_clf = MajorityVoteClassifier(classifiers=[pipe_knn_inflam, pipe_tree_inflam, pipe_forest_inflam, pipe_sgd_inflam])\n",
    "\n",
    "clf_labels = ['KNN', 'Tree', 'Forest', 'SGD','Majority voting']\n",
    "all_clf = [pipe_knn_inflam, pipe_tree_inflam, pipe_forest_inflam, pipe_sgd_inflam, mv_clf]\n",
    "\n",
    "for clf, label in zip(all_clf, clf_labels):\n",
    "    scores = cross_val_score(estimator=clf,\n",
    "                             X=X_train_inflam,\n",
    "                             y=y_train_inflam,\n",
    "                             cv=10,\n",
    "                             scoring='recall')\n",
    "    print(\"ROC AUC: %0.2f (+/- %0.2f) [%s]\"\n",
    "          % (scores.mean(), scores.std(), label))"
   ]
  },
  {
   "cell_type": "code",
   "execution_count": 30,
   "metadata": {},
   "outputs": [
    {
     "name": "stdout",
     "output_type": "stream",
     "text": [
      "ROC AUC: 1.00 (+/- 0.00) [KNN]\n",
      "ROC AUC: 0.97 (+/- 0.07) [Tree]\n",
      "ROC AUC: 0.97 (+/- 0.07) [Forest]\n",
      "ROC AUC: 1.00 (+/- 0.00) [SGD]\n",
      "ROC AUC: 0.97 (+/- 0.07) [Majority voting]\n"
     ]
    }
   ],
   "source": [
    "mv_clf = MajorityVoteClassifier(classifiers=[pipe_knn_inflam, pipe_tree_inflam, pipe_forest_inflam, pipe_sgd_inflam])\n",
    "\n",
    "clf_labels = ['KNN', 'Tree', 'Forest', 'SGD','Majority voting']\n",
    "all_clf = [pipe_knn_nephr, pipe_tree_nephr, pipe_forest_nephr, pipe_sgd_nephr, mv_clf]\n",
    "\n",
    "for clf, label in zip(all_clf, clf_labels):\n",
    "    scores = cross_val_score(estimator=clf,\n",
    "                             X=X_train_nephr,\n",
    "                             y=y_train_nephr,\n",
    "                             cv=10,\n",
    "                             scoring='recall')\n",
    "    print(\"ROC AUC: %0.2f (+/- %0.2f) [%s]\"\n",
    "          % (scores.mean(), scores.std(), label))"
   ]
  },
  {
   "cell_type": "markdown",
   "metadata": {},
   "source": [
    "### Overall Experiment Summary"
   ]
  },
  {
   "cell_type": "markdown",
   "metadata": {},
   "source": [
    "We used archived data downloaded from the UCI machine learning repository containing features and outcomes for two diseases of the urinary bladder: acute inflammation acute nephritis. Data was preprocessed by label encoding all binary features and then standardizing all input features. \n",
    "\n",
    "Due to the nature of the data (1 continuous feature and 5 binary features) we were limited with traditional parametric methods. Therefore, we choose models robust to non-linear features: k-nearest neighbors, decision tree, random forest, and SGD (SVM implementation). To find the best parameters, a grid search was completed for each algorithm. With the best model chosen, the following were calculated: accuracy score and running time. This process was completed for both target variables.\n",
    "\n",
    "The following are the best parameters for each algorithm:\n",
    "\n",
    "Target: Inflammation\n",
    "\n",
    "    KNN:{'metric': 'chebyshev', 'n_neighbors': 1}\n",
    "    Decision Tree: {'criterion': 'gini', 'max_depth': 3}\n",
    "    Random Forest: {'criterion': 'gini', 'n_estimators': 50}\n",
    "    SGD(SVM): {'alpha': 0.0001, 'loss': 'hinge', 'penalty': 'l2'}\n",
    "\n",
    "Target: Nephritis\n",
    "\n",
    "    KNN: {'metric': 'chebyshev', 'n_neighbors': 1}\n",
    "    Decision Tree: {'criterion': 'gini', 'max_depth': 2}\n",
    "    Random Forest: {'criterion': 'gini', 'n_estimators': 50}\n",
    "    SGD(SVM: {'alpha': 0.001, 'loss': 'hinge', 'penalty': 'l2'}\n",
    "    \n",
    "    \n",
    "Overall, all models performed well but KNN seems to be the best choice when considering run-time. If computational cost is not an issue, random forest would also be a great choice. Thankfully, we were able to model the data how we had hoped. Other graduate students had published previous work on this dataset and we were able to read their publication as guidance and explore areas they had not. \n",
    "\n",
    "Here is how our work differs from this publication:\n",
    "1. Prior work had combined the two outcome variables; we analyzed them separately for interpretability.\n",
    "2. Prior work did not use nested cross-validation (they use hold-out cross-validation)\n",
    "3. Either prior work did not use grid search to find best parameters (as we did) or simply did not mention it in their paper.\n",
    "3. While prior work did use variations of KNN, our grid search's best result produced a different parameters(metric=chebyshev) than any of their variations(Euclidean, Manhattan, Cosine, Correlation).\n",
    "4. While prior work used variations of SVM, SGD (stochastic gradient descent) was not implemented in any of those variations as we did.\n",
    "\n",
    "Finally, what did we learn? First, we learned that the best features for identifying the presence of inflammation ('lumbar_pain', 'pushing', 'nausea', 'burning') were not exactly the same as those for identifying nephritis ('burning', 'nausea','temp', ''micturition'). This result supports the notion that these two target variables should be analyzed separately, depending on the application, of course.\n",
    "\n",
    "What was most surprising was the best parameter finding for KNN. The prior work had not even tried the chebyshev metric, and yet we found this metric to be the best. While adding the run-times was not required, it was a great learning tool as we were able to see the computational cost of random forests as compared to other algorithms. Overall, this project was a great tool for learning how to implement grid search and cross validation, as well as an opportunity to expand among previous machine learning research published on this data."
   ]
  },
  {
   "cell_type": "code",
   "execution_count": null,
   "metadata": {},
   "outputs": [],
   "source": []
  }
 ],
 "metadata": {
  "kernelspec": {
   "display_name": "Python 3",
   "language": "python",
   "name": "python3"
  },
  "language_info": {
   "codemirror_mode": {
    "name": "ipython",
    "version": 3
   },
   "file_extension": ".py",
   "mimetype": "text/x-python",
   "name": "python",
   "nbconvert_exporter": "python",
   "pygments_lexer": "ipython3",
   "version": "3.7.6"
  }
 },
 "nbformat": 4,
 "nbformat_minor": 4
}
